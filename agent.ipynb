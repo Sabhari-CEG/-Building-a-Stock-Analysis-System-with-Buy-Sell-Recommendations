{
 "cells": [
  {
   "cell_type": "code",
   "execution_count": 4,
   "metadata": {},
   "outputs": [
    {
     "name": "stdout",
     "output_type": "stream",
     "text": [
      "Requirement already satisfied: transformers in c:\\users\\hp\\appdata\\local\\programs\\python\\python312\\lib\\site-packages (4.45.2)\n",
      "Requirement already satisfied: filelock in c:\\users\\hp\\appdata\\roaming\\python\\python312\\site-packages (from transformers) (3.14.0)\n",
      "Requirement already satisfied: huggingface-hub<1.0,>=0.23.2 in c:\\users\\hp\\appdata\\local\\programs\\python\\python312\\lib\\site-packages (from transformers) (0.26.0)\n",
      "Requirement already satisfied: numpy>=1.17 in c:\\users\\hp\\appdata\\local\\programs\\python\\python312\\lib\\site-packages (from transformers) (2.1.1)\n",
      "Requirement already satisfied: packaging>=20.0 in c:\\users\\hp\\appdata\\roaming\\python\\python312\\site-packages (from transformers) (24.1)\n",
      "Requirement already satisfied: pyyaml>=5.1 in c:\\users\\hp\\appdata\\local\\programs\\python\\python312\\lib\\site-packages (from transformers) (6.0.2)\n",
      "Requirement already satisfied: regex!=2019.12.17 in c:\\users\\hp\\appdata\\local\\programs\\python\\python312\\lib\\site-packages (from transformers) (2024.7.24)\n",
      "Requirement already satisfied: requests in c:\\users\\hp\\appdata\\local\\programs\\python\\python312\\lib\\site-packages (from transformers) (2.32.3)\n",
      "Requirement already satisfied: safetensors>=0.4.1 in c:\\users\\hp\\appdata\\local\\programs\\python\\python312\\lib\\site-packages (from transformers) (0.4.5)\n",
      "Requirement already satisfied: tokenizers<0.21,>=0.20 in c:\\users\\hp\\appdata\\local\\programs\\python\\python312\\lib\\site-packages (from transformers) (0.20.1)\n",
      "Requirement already satisfied: tqdm>=4.27 in c:\\users\\hp\\appdata\\local\\programs\\python\\python312\\lib\\site-packages (from transformers) (4.66.5)\n",
      "Requirement already satisfied: fsspec>=2023.5.0 in c:\\users\\hp\\appdata\\local\\programs\\python\\python312\\lib\\site-packages (from huggingface-hub<1.0,>=0.23.2->transformers) (2024.9.0)\n",
      "Requirement already satisfied: typing-extensions>=3.7.4.3 in c:\\users\\hp\\appdata\\local\\programs\\python\\python312\\lib\\site-packages (from huggingface-hub<1.0,>=0.23.2->transformers) (4.12.2)\n",
      "Requirement already satisfied: colorama in c:\\users\\hp\\appdata\\local\\programs\\python\\python312\\lib\\site-packages (from tqdm>=4.27->transformers) (0.4.6)\n",
      "Requirement already satisfied: charset-normalizer<4,>=2 in c:\\users\\hp\\appdata\\local\\programs\\python\\python312\\lib\\site-packages (from requests->transformers) (3.4.0)\n",
      "Requirement already satisfied: idna<4,>=2.5 in c:\\users\\hp\\appdata\\local\\programs\\python\\python312\\lib\\site-packages (from requests->transformers) (3.10)\n",
      "Requirement already satisfied: urllib3<3,>=1.21.1 in c:\\users\\hp\\appdata\\local\\programs\\python\\python312\\lib\\site-packages (from requests->transformers) (2.2.3)\n",
      "Requirement already satisfied: certifi>=2017.4.17 in c:\\users\\hp\\appdata\\roaming\\python\\python312\\site-packages (from requests->transformers) (2024.2.2)\n"
     ]
    },
    {
     "name": "stderr",
     "output_type": "stream",
     "text": [
      "\n",
      "[notice] A new release of pip is available: 24.0 -> 24.3.1\n",
      "[notice] To update, run: python.exe -m pip install --upgrade pip\n"
     ]
    }
   ],
   "source": [
    "!pip install transformers\n",
    "\n"
   ]
  },
  {
   "cell_type": "code",
   "execution_count": 6,
   "metadata": {},
   "outputs": [],
   "source": [
    "import requests\n",
    "\n",
    "api_key = \"Your_token_goes_here\"\n",
    "company = \"AAPL\"\n",
    "\n",
    "api1 = f\"https://financialmodelingprep.com/api/v3/quote/{company}?apikey={api_key}\"\n",
    "api2 = f\"https://financialmodelingprep.com/api/v3/otc/real-time-price/{company}?apikey={api_key}\"\n",
    "api3 = f\"https://financialmodelingprep.com/api/v3/stock-price-change/{company}?apikey={api_key}\"\n",
    "api4 = f\"https://financialmodelingprep.com/api/v3/stock/full/real-time-price/{company}?apikey={api_key}\"\n",
    "api5 = f\"https://financialmodelingprep.com/api/v3/income-statement/{company}?period=annual&apikey={api_key}\"\n",
    "api6 = f\"https://financialmodelingprep.com/api/v3/cash-flow-statement/{company}?period=annual&apikey={api_key}\"\n",
    "api7 = f\"https://financialmodelingprep.com/api/v3/income-statement-as-reported/{company}?period=annual&limit=50&apikey={api_key}\""
   ]
  },
  {
   "cell_type": "code",
   "execution_count": 7,
   "metadata": {},
   "outputs": [
    {
     "name": "stdout",
     "output_type": "stream",
     "text": [
      "[{'symbol': 'AAPL', 'name': 'Apple Inc.', 'price': 223.83, 'changesPercentage': 0.5345, 'change': 1.19, 'dayLow': 219.8, 'dayHigh': 223.98, 'yearHigh': 260.1, 'yearLow': 164.08, 'marketCap': 3365933157000, 'priceAvg50': 239.2804, 'priceAvg200': 217.2806, 'exchange': 'NASDAQ', 'volume': 62954541, 'avgVolume': 47048363, 'open': 219.94, 'previousClose': 222.64, 'eps': 6.75, 'pe': 33.16, 'earningsAnnouncement': '2025-01-30T21:00:00.000+0000', 'sharesOutstanding': 15037900000, 'timestamp': 1737579601}]\n"
     ]
    }
   ],
   "source": [
    "api_response_1 = requests.get(api1).json()\n",
    "print(api_response_1)"
   ]
  },
  {
   "cell_type": "code",
   "execution_count": 8,
   "metadata": {},
   "outputs": [],
   "source": [
    "api_5_data = requests.get(api5).json()\n",
    "api_6_data = requests.get(api6).json()\n",
    "api_7_data = requests.get(api7).json()"
   ]
  },
  {
   "cell_type": "code",
   "execution_count": 9,
   "metadata": {},
   "outputs": [],
   "source": [
    "def build_historical_data(api_5, api_6, api_7):\n",
    "    historical_data = []\n",
    "\n",
    "    for record_5 in api_5:\n",
    "        date = record_5[\"date\"]\n",
    "        record_6 = next((r for r in api_6 if r[\"date\"] == date), {})\n",
    "        record_7 = next((r for r in api_7 if r[\"date\"] == date), {})\n",
    "\n",
    "        combined_record = {\n",
    "            \"date\": date,\n",
    "            \"revenue\": record_5.get(\"revenue\"), \n",
    "            \"netIncome\": record_5.get(\"netIncome\") or record_6.get(\"netIncome\"),  \n",
    "            \"eps\": record_5.get(\"eps\") or record_7.get(\"earningspersharebasic\"),  \n",
    "            \"freeCashFlow\": record_6.get(\"freeCashFlow\"), \n",
    "            \"operatingIncome\": record_5.get(\"operatingIncome\") or record_7.get(\"operatingincomeloss\"), \n",
    "            \"grossProfit\": record_7.get(\"grossprofit\"),  \n",
    "        }\n",
    "\n",
    "        historical_data.append(combined_record)\n",
    "\n",
    "    return historical_data"
   ]
  },
  {
   "cell_type": "code",
   "execution_count": 10,
   "metadata": {},
   "outputs": [
    {
     "name": "stdout",
     "output_type": "stream",
     "text": [
      "{'date': '2024-09-28', 'revenue': 391035000000, 'netIncome': 93736000000, 'eps': 6.11, 'freeCashFlow': 108807000000, 'operatingIncome': 123216000000, 'grossProfit': None}\n",
      "{'date': '2023-09-30', 'revenue': 383285000000, 'netIncome': 96995000000, 'eps': 6.16, 'freeCashFlow': 99584000000, 'operatingIncome': 114301000000, 'grossProfit': None}\n",
      "{'date': '2022-09-24', 'revenue': 394328000000, 'netIncome': 99803000000, 'eps': 6.15, 'freeCashFlow': 111443000000, 'operatingIncome': 119437000000, 'grossProfit': 170782000000}\n",
      "{'date': '2021-09-25', 'revenue': 365817000000, 'netIncome': 94680000000, 'eps': 5.67, 'freeCashFlow': 92953000000, 'operatingIncome': 108949000000, 'grossProfit': 152836000000}\n",
      "{'date': '2020-09-26', 'revenue': 274515000000, 'netIncome': 57411000000, 'eps': 3.31, 'freeCashFlow': 73365000000, 'operatingIncome': 66288000000, 'grossProfit': 104956000000}\n"
     ]
    }
   ],
   "source": [
    "historical_data = build_historical_data(api_5_data, api_6_data, api_7_data)\n",
    "\n",
    "for record in historical_data:\n",
    "    print(record)"
   ]
  },
  {
   "cell_type": "code",
   "execution_count": 12,
   "metadata": {},
   "outputs": [
    {
     "name": "stdout",
     "output_type": "stream",
     "text": [
      "{'price': 223.83, 'pe_ratio': 33.16, 'eps': 6.75, 'year_high': 260.1, 'year_low': 164.08, 'price_avg_50': 239.2804, 'price_avg_200': 217.2806, 'volume': 62954541, 'avg_volume': 47048363}\n"
     ]
    }
   ],
   "source": [
    "current_metrics = {\n",
    "    \"price\": api_response_1[0][\"price\"],\n",
    "    \"pe_ratio\": api_response_1[0][\"pe\"],\n",
    "    \"eps\": api_response_1[0][\"eps\"],\n",
    "    \"year_high\": api_response_1[0][\"yearHigh\"],\n",
    "    \"year_low\": api_response_1[0][\"yearLow\"],\n",
    "    \"price_avg_50\": api_response_1[0][\"priceAvg50\"],\n",
    "    \"price_avg_200\": api_response_1[0][\"priceAvg200\"],\n",
    "    \"volume\": api_response_1[0][\"volume\"],\n",
    "    \"avg_volume\": api_response_1[0][\"avgVolume\"],\n",
    "}\n",
    "print(current_metrics)"
   ]
  },
  {
   "cell_type": "code",
   "execution_count": 13,
   "metadata": {},
   "outputs": [],
   "source": [
    "def calculate_growth(data, key):\n",
    "    growth_rates = []\n",
    "    for i in range(1, len(data)):\n",
    "        growth = (data[i - 1][key] - data[i][key]) / data[i][key]\n",
    "        growth_rates.append(growth)\n",
    "    \n",
    "    return growth_rates[0] if growth_rates else None"
   ]
  },
  {
   "cell_type": "code",
   "execution_count": 14,
   "metadata": {},
   "outputs": [],
   "source": [
    "historical_trends = {\n",
    "    \"revenue_growth\": calculate_growth(historical_data, key=\"revenue\"),\n",
    "    \"net_income_growth\": calculate_growth(historical_data, key=\"netIncome\"),\n",
    "    \"eps_growth\": calculate_growth(historical_data, key=\"eps\"),\n",
    "    \"free_cash_flow_growth\": calculate_growth(historical_data, key=\"freeCashFlow\"),\n",
    "}"
   ]
  },
  {
   "cell_type": "code",
   "execution_count": 15,
   "metadata": {},
   "outputs": [],
   "source": [
    "def calculate_score(current_metrics, historical_trends):\n",
    "    # Assign weights to different factors\n",
    "    weights = {\n",
    "        \"pe_ratio\": -0.2,   # Lower P/E ratio is better\n",
    "        \"eps_growth\": 0.3,   # Higher EPS growth is better\n",
    "        \"revenue_growth\": 0.2,   # Higher revenue growth is better\n",
    "        \"free_cash_flow_growth\": 0.2,   # Higher free cash flow growth is better\n",
    "        \"price_vs_50_avg\": 0.1,   # Price closer to the 50-day average is better\n",
    "        \"price_vs_200_avg\": 0.1   # Price above the 200-day average is better\n",
    "    }\n",
    "\n",
    "    # Normalize and calculate individual scores\n",
    "    pe_score = max(0, min(1, (20 / current_metrics[\"pe_ratio\"])))   # Normalize P/E ratio (ideal <20)\n",
    "    eps_growth_score = max(0, min(1, historical_trends[\"eps_growth\"]))\n",
    "    revenue_growth_score = max(0, min(1, historical_trends[\"revenue_growth\"]))\n",
    "    free_cash_flow_score = max(0, min(1, historical_trends[\"free_cash_flow_growth\"]))\n",
    "    \n",
    "    price_vs_50_avg_score = max(0, min(1, (1 - abs(current_metrics[\"price\"] - current_metrics[\"price_avg_50\"]) / current_metrics[\"price_avg_50\"])))\n",
    "    \n",
    "    price_vs_200_avg_score = max(0, min(1, (1 - abs(current_metrics[\"price\"] - current_metrics[\"price_avg_200\"]) / current_metrics[\"price_avg_200\"])))\n",
    "\n",
    "    # Weighted sum of scores\n",
    "    score = (\n",
    "        weights[\"pe_ratio\"] * pe_score +\n",
    "        weights[\"eps_growth\"] * eps_growth_score +\n",
    "        weights[\"revenue_growth\"] * revenue_growth_score +\n",
    "        weights[\"free_cash_flow_growth\"] * free_cash_flow_score +\n",
    "        weights[\"price_vs_50_avg\"] * price_vs_50_avg_score +\n",
    "        weights[\"price_vs_200_avg\"] * price_vs_200_avg_score\n",
    "    )\n",
    "\n",
    "    return max(0, min(1, score))   # Ensure score is between [0 and 1]\n",
    "\n",
    "score = calculate_score(current_metrics, historical_trends)"
   ]
  },
  {
   "cell_type": "code",
   "execution_count": 19,
   "metadata": {},
   "outputs": [
    {
     "name": "stdout",
     "output_type": "stream",
     "text": [
      "The P/E ratio is high at 33.16, indicating potential overvaluation.\n",
      "EPS has declined by -0.81%, indicating weaker profitability.\n",
      "Revenue has grown by 2.02%, showing positive business performance.\n",
      "Free cash flow has increased by 9.26%, indicating strong financial health.\n"
     ]
    }
   ],
   "source": [
    "def provide_reasoning(score, current_metrics, historical_trends):\n",
    "    reasoning = []\n",
    "\n",
    "    # P/E Ratio Analysis\n",
    "    if current_metrics[\"pe_ratio\"] > 30:\n",
    "        reasoning.append(\"The P/E ratio is high at {:.2f}, indicating potential overvaluation.\".format(current_metrics[\"pe_ratio\"]))\n",
    "    else:\n",
    "        reasoning.append(\"The P/E ratio is reasonable at {:.2f}.\".format(current_metrics[\"pe_ratio\"]))\n",
    "\n",
    "    # EPS Growth Analysis\n",
    "    if historical_trends[\"eps_growth\"] < 0:\n",
    "        reasoning.append(\"EPS has declined by {:.2%}, indicating weaker profitability.\".format(historical_trends[\"eps_growth\"]))\n",
    "    else:\n",
    "        reasoning.append(\"EPS has grown by {:.2%}, indicating stronger profitability.\".format(historical_trends[\"eps_growth\"]))\n",
    "\n",
    "    # Revenue Growth Analysis\n",
    "    if historical_trends[\"revenue_growth\"] < 0:\n",
    "        reasoning.append(\"Revenue has declined by {:.2%}, which may indicate slowing business growth.\".format(historical_trends[\"revenue_growth\"]))\n",
    "    else:\n",
    "        reasoning.append(\"Revenue has grown by {:.2%}, showing positive business performance.\".format(historical_trends[\"revenue_growth\"]))\n",
    "\n",
    "    # Free Cash Flow Analysis\n",
    "    if historical_trends[\"free_cash_flow_growth\"] > 0:\n",
    "        reasoning.append(\"Free cash flow has increased by {:.2%}, indicating strong financial health.\".format(historical_trends[\"free_cash_flow_growth\"]))\n",
    "    else:\n",
    "        reasoning.append(\"Free cash flow has declined by {:.2%}, which may indicate weaker financial stability.\".format(historical_trends[\"free_cash_flow_growth\"]))\n",
    "\n",
    "    return \"\\n\".join(reasoning)\n",
    "\n",
    "# Example usage\n",
    "reasoning = provide_reasoning(score, current_metrics=current_metrics, historical_trends=historical_trends)\n",
    "print(reasoning)\n"
   ]
  },
  {
   "cell_type": "code",
   "execution_count": 17,
   "metadata": {},
   "outputs": [
    {
     "data": {
      "text/plain": [
       "0.09246849633931024"
      ]
     },
     "execution_count": 17,
     "metadata": {},
     "output_type": "execute_result"
    }
   ],
   "source": [
    "score"
   ]
  },
  {
   "cell_type": "code",
   "execution_count": 22,
   "metadata": {},
   "outputs": [
    {
     "name": "stdout",
     "output_type": "stream",
     "text": [
      "Score: 0.0925\n",
      "Decision: Sell\n",
      "Reasoning:\n",
      "The P/E ratio of 33.16 is reasonable.\n",
      "EPS growth of -0.81% is weak.\n",
      "Revenue growth of 2.02% is below expectations.\n",
      "Free cash flow growth of 9.26% is weak.\n",
      "The stock price is close to its short-term (50-day) moving average.\n",
      "The stock price is above its long-term (200-day) moving average.\n"
     ]
    }
   ],
   "source": [
    "def calculate_score_and_decision(current_metrics, historical_trends):\n",
    "\n",
    "    # Step 1: Assign weights to different factors\n",
    "    weights = {\n",
    "        \"pe_ratio\": -0.2,  # Lower P/E ratio is better\n",
    "        \"eps_growth\": 0.3,  # Higher EPS growth is better\n",
    "        \"revenue_growth\": 0.2,  # Higher revenue growth is better\n",
    "        \"free_cash_flow_growth\": 0.2,  # Higher free cash flow growth is better\n",
    "        \"price_vs_50_avg\": 0.1,  # Price closer to the 50-day average is better\n",
    "        \"price_vs_200_avg\": 0.1,  # Price above the 200-day average is better\n",
    "    }\n",
    "\n",
    "    # Step 2: Normalize individual scores for each factor\n",
    "    pe_score = max(0, min(1, (20 / current_metrics[\"pe_ratio\"])))  # Normalize P/E ratio (ideal <20)\n",
    "    eps_growth_score = max(0, min(1, historical_trends[\"eps_growth\"]))  # EPS growth rate\n",
    "    revenue_growth_score = max(0, min(1, historical_trends[\"revenue_growth\"]))  # Revenue growth rate\n",
    "    free_cash_flow_score = max(0, min(1, historical_trends[\"free_cash_flow_growth\"]))  # Free cash flow growth\n",
    "\n",
    "    price_vs_50_avg_score = max(\n",
    "        0,\n",
    "        min(\n",
    "            1,\n",
    "            (1 - abs(current_metrics[\"price\"] - current_metrics[\"price_avg_50\"]) / current_metrics[\"price_avg_50\"]),\n",
    "        ),\n",
    "    )  # Price vs. 50-day moving average\n",
    "\n",
    "    price_vs_200_avg_score = max(\n",
    "        0,\n",
    "        min(\n",
    "            1,\n",
    "            (1 - abs(current_metrics[\"price\"] - current_metrics[\"price_avg_200\"]) / current_metrics[\"price_avg_200\"]),\n",
    "        ),\n",
    "    )  # Price vs. 200-day moving average\n",
    "\n",
    "    # Step 3: Calculate weighted score\n",
    "    score = (\n",
    "        weights[\"pe_ratio\"] * pe_score +\n",
    "        weights[\"eps_growth\"] * eps_growth_score +\n",
    "        weights[\"revenue_growth\"] * revenue_growth_score +\n",
    "        weights[\"free_cash_flow_growth\"] * free_cash_flow_score +\n",
    "        weights[\"price_vs_50_avg\"] * price_vs_50_avg_score +\n",
    "        weights[\"price_vs_200_avg\"] * price_vs_200_avg_score\n",
    "    )\n",
    "\n",
    "    # Ensure the score is between [0 and 1]\n",
    "    final_score = max(0, min(1, score))\n",
    "\n",
    "    # Step 4: Make a decision based on the score\n",
    "    decision = \"Buy\" if final_score > 0.5 else \"Sell\"\n",
    "\n",
    "    # Step 5: Provide reasoning for the decision\n",
    "    reasoning = []\n",
    "    \n",
    "    if pe_score < 0.5:\n",
    "        reasoning.append(f\"The P/E ratio of {current_metrics['pe_ratio']:.2f} suggests overvaluation.\")\n",
    "    else:\n",
    "        reasoning.append(f\"The P/E ratio of {current_metrics['pe_ratio']:.2f} is reasonable.\")\n",
    "\n",
    "    if eps_growth_score > 0.5:\n",
    "        reasoning.append(f\"EPS growth of {historical_trends['eps_growth']:.2%} indicates strong profitability.\")\n",
    "    else:\n",
    "        reasoning.append(f\"EPS growth of {historical_trends['eps_growth']:.2%} is weak.\")\n",
    "\n",
    "    if revenue_growth_score > 0.5:\n",
    "        reasoning.append(f\"Revenue growth of {historical_trends['revenue_growth']:.2%} shows positive business performance.\")\n",
    "    else:\n",
    "        reasoning.append(f\"Revenue growth of {historical_trends['revenue_growth']:.2%} is below expectations.\")\n",
    "\n",
    "    if free_cash_flow_score > 0.5:\n",
    "        reasoning.append(f\"Free cash flow growth of {historical_trends['free_cash_flow_growth']:.2%} indicates strong financial health.\")\n",
    "    else:\n",
    "        reasoning.append(f\"Free cash flow growth of {historical_trends['free_cash_flow_growth']:.2%} is weak.\")\n",
    "\n",
    "    if price_vs_50_avg_score > 0.5:\n",
    "        reasoning.append(\"The stock price is close to its short-term (50-day) moving average.\")\n",
    "    else:\n",
    "        reasoning.append(\"The stock price is far from its short-term (50-day) moving average.\")\n",
    "\n",
    "    if price_vs_200_avg_score > 0.5:\n",
    "        reasoning.append(\"The stock price is above its long-term (200-day) moving average.\")\n",
    "    else:\n",
    "        reasoning.append(\"The stock price is below its long-term (200-day) moving average.\")\n",
    "\n",
    "    return {\n",
    "        \"score\": round(final_score, 4),\n",
    "        \"decision\": decision,\n",
    "        \"reasoning\": \"\\n\".join(reasoning),\n",
    "    }\n",
    "\n",
    "\n",
    "result = calculate_score_and_decision(current_metrics, historical_trends)\n",
    "\n",
    "print(f\"Score: {result['score']}\")\n",
    "print(f\"Decision: {result['decision']}\")\n",
    "print(\"Reasoning:\")\n",
    "print(result['reasoning'])\n"
   ]
  },
  {
   "cell_type": "code",
   "execution_count": null,
   "metadata": {},
   "outputs": [],
   "source": []
  }
 ],
 "metadata": {
  "kernelspec": {
   "display_name": "Python 3",
   "language": "python",
   "name": "python3"
  },
  "language_info": {
   "codemirror_mode": {
    "name": "ipython",
    "version": 3
   },
   "file_extension": ".py",
   "mimetype": "text/x-python",
   "name": "python",
   "nbconvert_exporter": "python",
   "pygments_lexer": "ipython3",
   "version": "3.12.3"
  }
 },
 "nbformat": 4,
 "nbformat_minor": 2
}
